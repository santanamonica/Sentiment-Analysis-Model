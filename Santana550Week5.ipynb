{
 "cells": [
  {
   "cell_type": "markdown",
   "id": "1d27b238",
   "metadata": {},
   "source": [
    "# Exercise 5.2: Build your own Sentiment Analysis Model"
   ]
  },
  {
   "cell_type": "code",
   "execution_count": 2,
   "id": "8043c861",
   "metadata": {},
   "outputs": [],
   "source": [
    "# 1. Get the stemmed data using the same process you did in Week 3\n",
    "\n",
    "# Import the movie review data as a data frame and ensure that the data is loaded properly\n",
    "\n",
    "import pandas as pd\n",
    "\n",
    "moviereviews_df = pd.read_csv(\"Downloads/labeledTrainData.tsv\", sep='\\t')"
   ]
  },
  {
   "cell_type": "code",
   "execution_count": 3,
   "id": "e92bfe0d",
   "metadata": {},
   "outputs": [],
   "source": [
    "# Convert all text to lowercase letters\n",
    "\n",
    "moviereviews_df['review'] = moviereviews_df['review'].str.lower()"
   ]
  },
  {
   "cell_type": "code",
   "execution_count": 4,
   "id": "d7be8bd3",
   "metadata": {},
   "outputs": [],
   "source": [
    "# Remove punctuation and special characters from the text\n",
    "\n",
    "# Import library\n",
    "import string\n",
    "\n",
    "def removepunctuation(text):\n",
    "    return ''.join([char for char in text if char not in string.punctuation])\n",
    "\n",
    "moviereviews_df['review'] = moviereviews_df['review'].apply(removepunctuation)"
   ]
  },
  {
   "cell_type": "code",
   "execution_count": 5,
   "id": "dfb8a91b",
   "metadata": {},
   "outputs": [],
   "source": [
    "# Remove stop words\n",
    "\n",
    "# Import library\n",
    "from nltk.corpus import stopwords\n",
    "\n",
    "stop_words = stopwords.words('english')\n",
    "\n",
    "def stopwords(text):\n",
    "    words = text.split()\n",
    "    return ' '.join([word for word in words if word not in stop_words])\n",
    "\n",
    "moviereviews_df['review'] = moviereviews_df['review'].apply(stopwords)"
   ]
  },
  {
   "cell_type": "code",
   "execution_count": 6,
   "id": "d1b73c41",
   "metadata": {},
   "outputs": [],
   "source": [
    "# Apply NLTK’s PorterStemmer\n",
    "\n",
    "# Import library\n",
    "from nltk.stem import PorterStemmer\n",
    "\n",
    "porter = PorterStemmer()\n",
    "\n",
    "def stemming(text):\n",
    "    words = text.split()\n",
    "    return ' '.join([porter.stem(word) for word in words])\n",
    "\n",
    "moviereviews_df['review'] = moviereviews_df['review'].apply(stemming)"
   ]
  },
  {
   "cell_type": "code",
   "execution_count": 7,
   "id": "437f6ead",
   "metadata": {},
   "outputs": [],
   "source": [
    "# 2. Split this into a training and test set (80% and 20%)\n",
    "\n",
    "# Variables for the target\n",
    "\n",
    "x = moviereviews_df['review']\n",
    "y = moviereviews_df['sentiment']"
   ]
  },
  {
   "cell_type": "code",
   "execution_count": 8,
   "id": "63227a61",
   "metadata": {},
   "outputs": [],
   "source": [
    "# Import necessary package to use train_test_split function\n",
    "\n",
    "from sklearn.model_selection import train_test_split\n",
    "\n",
    "# Split the data and the target based on 80% training data and 20% test data\n",
    "\n",
    "xtrain, xtest, ytrain, ytest = train_test_split(x, y, test_size = 0.2)"
   ]
  },
  {
   "cell_type": "code",
   "execution_count": 9,
   "id": "417ca5a3",
   "metadata": {},
   "outputs": [
    {
     "data": {
      "text/plain": [
       "(20000, 81332)"
      ]
     },
     "execution_count": 9,
     "metadata": {},
     "output_type": "execute_result"
    }
   ],
   "source": [
    "# 3. Fit and apply the tf-idf vectorization to the training set\n",
    "\n",
    "from sklearn.feature_extraction.text import TfidfVectorizer\n",
    "\n",
    "tfidf = TfidfVectorizer()\n",
    "trainmatrix = tfidf.fit_transform(xtrain)\n",
    "trainmatrix.shape"
   ]
  },
  {
   "cell_type": "code",
   "execution_count": 10,
   "id": "c3c493d9",
   "metadata": {},
   "outputs": [
    {
     "data": {
      "text/plain": [
       "(5000, 81332)"
      ]
     },
     "execution_count": 10,
     "metadata": {},
     "output_type": "execute_result"
    }
   ],
   "source": [
    "# 4. Apply but DO NOT FIT the tf-idf vectorization to the test set (Why?)\n",
    "\n",
    "# We don't fit it it due to the fact we already fit it to the training set, so doing it to the test set will create an error\n",
    "# in the results and misinterpreted data\n",
    "\n",
    "testmatrix = tfidf.transform(xtest)\n",
    "testmatrix.shape"
   ]
  },
  {
   "cell_type": "code",
   "execution_count": 20,
   "id": "d1681273",
   "metadata": {},
   "outputs": [],
   "source": [
    "# 5. Train a logistic regression using the training data\n",
    "\n",
    "# Import library\n",
    "from sklearn.linear_model import LogisticRegression\n",
    "\n",
    "logisticmodel = LogisticRegression()\n",
    "trainmodel = logisticmodel.fit(trainmatrix, ytrain).predict(testmatrix)"
   ]
  },
  {
   "cell_type": "code",
   "execution_count": 21,
   "id": "0310014e",
   "metadata": {},
   "outputs": [
    {
     "data": {
      "text/plain": [
       "0.8842"
      ]
     },
     "execution_count": 21,
     "metadata": {},
     "output_type": "execute_result"
    }
   ],
   "source": [
    "# 6. Find the model accuracy on test set\n",
    "# Accuracy is 88%\n",
    "\n",
    "# Import library\n",
    "from sklearn.metrics import accuracy_score\n",
    "\n",
    "accuracy_score(ytest, trainmodel)"
   ]
  },
  {
   "cell_type": "code",
   "execution_count": 23,
   "id": "b9688907",
   "metadata": {},
   "outputs": [
    {
     "data": {
      "text/plain": [
       "array([[2122,  301],\n",
       "       [ 278, 2299]], dtype=int64)"
      ]
     },
     "execution_count": 23,
     "metadata": {},
     "output_type": "execute_result"
    }
   ],
   "source": [
    "# 7. Create a confusion matrix for the test set predictions\n",
    "\n",
    "# Import library\n",
    "from sklearn.metrics import confusion_matrix\n",
    "\n",
    "confusionmatrix = confusion_matrix(ytest, trainmodel)\n",
    "confusionmatrix"
   ]
  },
  {
   "cell_type": "code",
   "execution_count": 27,
   "id": "206a7e56",
   "metadata": {},
   "outputs": [
    {
     "name": "stdout",
     "output_type": "stream",
     "text": [
      "Precision = 0.88\n",
      "Recall = 0.89\n",
      "F1-score = 0.89\n"
     ]
    }
   ],
   "source": [
    "# 8. Get the precision, recall, and F1-score for the test set predictions\n",
    "\n",
    "# Import library\n",
    "from sklearn.metrics import precision_score, recall_score, f1_score\n",
    "\n",
    "# Calculating precision for test set predicitions\n",
    "precision = precision_score(ytest, trainmodel)\n",
    "\n",
    "# Calculating recall for test set predictions\n",
    "recall = recall_score(ytest, trainmodel)\n",
    "\n",
    "# Calculating F1-score for test set predictions\n",
    "f1_score = f1_score(ytest, trainmodel)\n",
    "\n",
    "# Print results\n",
    "print(f'Precision = {precision:.2f}')\n",
    "print(f'Recall = {recall:.2f}')\n",
    "print(f'F1-score = {f1_score:.2f}')"
   ]
  },
  {
   "cell_type": "code",
   "execution_count": 31,
   "id": "6e41aa27",
   "metadata": {},
   "outputs": [
    {
     "data": {
      "text/plain": [
       "array([0.89314643, 0.90881395, 0.86049474, ..., 0.95089481, 0.04892115,\n",
       "       0.96507469])"
      ]
     },
     "execution_count": 31,
     "metadata": {},
     "output_type": "execute_result"
    }
   ],
   "source": [
    "# 9. Create a ROC curve for the test set\n",
    "\n",
    "# Import library\n",
    "from sklearn.metrics import roc_curve, roc_auc_score\n",
    "\n",
    "# Get the predicted probabilities\n",
    "\n",
    "predprob = logisticmodel.predict_proba(testmatrix)[:,1]\n",
    "predprob"
   ]
  },
  {
   "cell_type": "code",
   "execution_count": 38,
   "id": "4079000b",
   "metadata": {},
   "outputs": [
    {
     "data": {
      "image/png": "[encoded data removed]",
      "text/plain": [
       "<Figure size 640x480 with 1 Axes>"
      ]
     },
     "metadata": {},
     "output_type": "display_data"
    }
   ],
   "source": [
    "# Import library\n",
    "import matplotlib.pyplot as plt\n",
    "\n",
    "# Create True and False positive rates\n",
    "\n",
    "fpositiverate, tpositiverate, thresholds = roc_curve(ytest, predprob)\n",
    "\n",
    "# Plot the ROC curve for the test set\n",
    "\n",
    "plt.plot(fpositiverate, tpositiverate)\n",
    "plt.plot([0, 1], ls='--')\n",
    "plt.plot([0, 0], [1, 0], c='.7'), plt.plot([1, 1] , c='.7')\n",
    "plt.title('ROC Curve of the Logistic Model')\n",
    "plt.xlabel('False Positive Rate')\n",
    "plt.ylabel('True Positive Rate')\n",
    "plt.show()"
   ]
  },
  {
   "cell_type": "code",
   "execution_count": 63,
   "id": "12106795",
   "metadata": {},
   "outputs": [],
   "source": [
    "# 10. Pick another classification model you learned about this week and repeat steps (5) – (9)\n",
    "\n",
    "# For my second classification model I will be using the random forest classifier\n",
    "\n",
    "# Import necessary libraries\n",
    "from sklearn.ensemble import RandomForestClassifier\n",
    "\n",
    "# 5. Train a logistic regression using the training data \n",
    "\n",
    "rforestmodel = RandomForestClassifier()\n",
    "rforesttrain = rforestmodel.fit(trainmatrix, ytrain).predict(testmatrix)"
   ]
  },
  {
   "cell_type": "code",
   "execution_count": 64,
   "id": "7a3bbd06",
   "metadata": {},
   "outputs": [
    {
     "data": {
      "text/plain": [
       "0.8404"
      ]
     },
     "execution_count": 64,
     "metadata": {},
     "output_type": "execute_result"
    }
   ],
   "source": [
    "# 6. Find the model accuracy on test set\n",
    "# Accuracy is 84%\n",
    "\n",
    "accuracy_score(ytest, rforesttrain)"
   ]
  },
  {
   "cell_type": "code",
   "execution_count": 65,
   "id": "08825aac",
   "metadata": {},
   "outputs": [
    {
     "data": {
      "text/plain": [
       "array([[2089,  334],\n",
       "       [ 464, 2113]], dtype=int64)"
      ]
     },
     "execution_count": 65,
     "metadata": {},
     "output_type": "execute_result"
    }
   ],
   "source": [
    "# 7. Create a confusion matrix for the test set predictions\n",
    "\n",
    "confusionmatrixrf = confusion_matrix(ytest, rforesttrain)\n",
    "confusionmatrixrf"
   ]
  },
  {
   "cell_type": "code",
   "execution_count": 69,
   "id": "2c13467e",
   "metadata": {},
   "outputs": [
    {
     "name": "stdout",
     "output_type": "stream",
     "text": [
      "Precision = 0.86\n",
      "Recall = 0.82\n",
      "F1-score = 0.84\n"
     ]
    }
   ],
   "source": [
    "# 8. Get the precision, recall, and F1-score for the test set predictions\n",
    "\n",
    "# Import libraries\n",
    "from sklearn.metrics import precision_score, recall_score, f1_score\n",
    "\n",
    "# Calculating precision for test set predicitions\n",
    "precisionrf = precision_score(ytest, rforesttrain)\n",
    "\n",
    "# Calculating recall for test set predictions\n",
    "recallrf = recall_score(ytest, rforesttrain)\n",
    "\n",
    "# Calculating F1-score for test set predictions\n",
    "f1_scorerf = f1_score(ytest, rforesttrain)\n",
    "\n",
    "# Print results\n",
    "print(f'Precision = {precisionrf:.2f}')\n",
    "print(f'Recall = {recallrf:.2f}')\n",
    "print(f'F1-score = {f1_scorerf:.2f}')"
   ]
  },
  {
   "cell_type": "code",
   "execution_count": 67,
   "id": "ae2d3266",
   "metadata": {},
   "outputs": [
    {
     "data": {
      "text/plain": [
       "array([0.62, 0.73, 0.65, ..., 0.67, 0.23, 0.86])"
      ]
     },
     "execution_count": 67,
     "metadata": {},
     "output_type": "execute_result"
    }
   ],
   "source": [
    "# Get the predicted probabilities for the random forest model\n",
    "\n",
    "predprobrf = rforestmodel.predict_proba(testmatrix)[:,1]\n",
    "predprobrf"
   ]
  },
  {
   "cell_type": "code",
   "execution_count": 68,
   "id": "96b75576",
   "metadata": {},
   "outputs": [
    {
     "data": {
      "image/png": "[encoded data removed]",
      "text/plain": [
       "<Figure size 640x480 with 1 Axes>"
      ]
     },
     "metadata": {},
     "output_type": "display_data"
    }
   ],
   "source": [
    "# Create True and False positive rates\n",
    "\n",
    "fpositiverf, tpositiverf, thresholds = roc_curve(ytest, predprobrf)\n",
    "\n",
    "# 9. Plot ROC curve for the test set\n",
    "\n",
    "plt.plot(fpositiverf, tpositiverf)\n",
    "plt.plot([0, 1], ls='--')\n",
    "plt.plot([0, 0], [1, 0], c='.7'), plt.plot([1, 1] , c='.7')\n",
    "plt.title('ROC Curve for the Random Forest Model')\n",
    "plt.xlabel('False Positive Rate')\n",
    "plt.ylabel('True Positive Rate')\n",
    "plt.show()"
   ]
  }
 ],
 "metadata": {
  "kernelspec": {
   "display_name": "Python 3 (ipykernel)",
   "language": "python",
   "name": "python3"
  },
  "language_info": {
   "codemirror_mode": {
    "name": "ipython",
    "version": 3
   },
   "file_extension": ".py",
   "mimetype": "text/x-python",
   "name": "python",
   "nbconvert_exporter": "python",
   "pygments_lexer": "ipython3",
   "version": "3.11.5"
  }
 },
 "nbformat": 4,
 "nbformat_minor": 5
}
